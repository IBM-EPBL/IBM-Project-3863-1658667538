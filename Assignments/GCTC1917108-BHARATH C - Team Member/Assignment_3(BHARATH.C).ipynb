{
  "nbformat": 4,
  "nbformat_minor": 0,
  "metadata": {
    "colab": {
      "provenance": [],
      "collapsed_sections": []
    },
    "kernelspec": {
      "name": "python3",
      "display_name": "Python 3"
    },
    "language_info": {
      "name": "python"
    }
  },
  "cells": [
    {
      "cell_type": "markdown",
      "source": [
        "#**BUILDING CNN MODEL FOR IMAGE CLASSIFIACTION**"
      ],
      "metadata": {
        "id": "lvJ_KZtmrb9u"
      }
    },
    {
      "cell_type": "markdown",
      "source": [
        "##**Image Augmentation**"
      ],
      "metadata": {
        "id": "1mkTgkQOsj1T"
      }
    },
    {
      "cell_type": "code",
      "source": [
        "from tensorflow.keras.preprocessing.image import ImageDataGenerator"
      ],
      "metadata": {
        "id": "G2jXz2qrreHr"
      },
      "execution_count": 1,
      "outputs": []
    },
    {
      "cell_type": "code",
      "execution_count": 2,
      "metadata": {
        "id": "GxGIWcRtARUQ"
      },
      "outputs": [],
      "source": [
        "train_datagen=ImageDataGenerator(rescale=1./255,zoom_range=0.2,horizontal_flip=True,vertical_flip=False)\n",
        "test_datagen = ImageDataGenerator(rescale=1./255)"
      ]
    },
    {
      "cell_type": "code",
      "source": [
        "from google.colab import drive\n",
        "drive.mount('/content/drive')"
      ],
      "metadata": {
        "colab": {
          "base_uri": "https://localhost:8080/"
        },
        "id": "8u3dXnkpTu8p",
        "outputId": "b970ce15-c0cc-46a0-bd27-e67f76b6e4c8"
      },
      "execution_count": 3,
      "outputs": [
        {
          "output_type": "stream",
          "name": "stdout",
          "text": [
            "Mounted at /content/drive\n"
          ]
        }
      ]
    },
    {
      "cell_type": "code",
      "source": [
        "x_train = train_datagen.flow_from_directory(r'/content/drive/MyDrive/flowers',target_size=(64,64),class_mode='categorical')"
      ],
      "metadata": {
        "colab": {
          "base_uri": "https://localhost:8080/"
        },
        "id": "ZRt2shgEs-hF",
        "outputId": "a3c84979-aa54-451f-8f62-250c9cdd98b7"
      },
      "execution_count": 4,
      "outputs": [
        {
          "output_type": "stream",
          "name": "stdout",
          "text": [
            "Found 1670 images belonging to 5 classes.\n"
          ]
        }
      ]
    },
    {
      "cell_type": "code",
      "source": [
        "x_train.class_indices"
      ],
      "metadata": {
        "colab": {
          "base_uri": "https://localhost:8080/"
        },
        "id": "PDpBl_zBuJ38",
        "outputId": "48e7eaa9-ed92-4268-e945-1bbb2a7a2bda"
      },
      "execution_count": 5,
      "outputs": [
        {
          "output_type": "execute_result",
          "data": {
            "text/plain": [
              "{'daisy': 0, 'dandelion': 1, 'rose': 2, 'sunflower': 3, 'tulip': 4}"
            ]
          },
          "metadata": {},
          "execution_count": 5
        }
      ]
    },
    {
      "cell_type": "markdown",
      "source": [
        "##**Creating Model**"
      ],
      "metadata": {
        "id": "1ZzgdIFIuh98"
      }
    },
    {
      "cell_type": "code",
      "source": [
        "from tensorflow.keras.models import Sequential\n",
        "from tensorflow.keras.layers import Convolution2D,MaxPooling2D,Dense,Flatten"
      ],
      "metadata": {
        "id": "nNGsWC5suSvP"
      },
      "execution_count": 6,
      "outputs": []
    },
    {
      "cell_type": "code",
      "source": [
        "model=Sequential()"
      ],
      "metadata": {
        "id": "oy8182cDFSjN"
      },
      "execution_count": 8,
      "outputs": []
    },
    {
      "cell_type": "markdown",
      "source": [
        "##**Add Layers (Convolution,MaxPooling,Flatten,Dense-(HiddenLayers),Output)**"
      ],
      "metadata": {
        "id": "y8DrVQjKF9Js"
      }
    },
    {
      "cell_type": "code",
      "source": [
        "model.add(Convolution2D(32,(3,3),activation='relu',input_shape=(64,64,3))) # Convolution layer\n",
        "model.add(MaxPooling2D(pool_size=(2,2))) # Max pooling layer\n",
        "model.add(Flatten()) # Flatten layer\n",
        "# Dense layers\n",
        "model.add(Dense(300,activation='relu')) # Hidden layer\n",
        "model.add(Dense(150,activation='relu')) # Hidden layer\n",
        "model.add(Dense(5,activation='softmax')) # Output layer"
      ],
      "metadata": {
        "id": "ePzz_h6nFxvH"
      },
      "execution_count": 9,
      "outputs": []
    },
    {
      "cell_type": "code",
      "source": [
        "model.summary()"
      ],
      "metadata": {
        "colab": {
          "base_uri": "https://localhost:8080/"
        },
        "id": "Nj4aYq8qGm2B",
        "outputId": "fdd7a2c7-7f1b-40f6-e8a6-2e84e73eeb04"
      },
      "execution_count": 10,
      "outputs": [
        {
          "output_type": "stream",
          "name": "stdout",
          "text": [
            "Model: \"sequential\"\n",
            "_________________________________________________________________\n",
            " Layer (type)                Output Shape              Param #   \n",
            "=================================================================\n",
            " conv2d (Conv2D)             (None, 62, 62, 32)        896       \n",
            "                                                                 \n",
            " max_pooling2d (MaxPooling2D  (None, 31, 31, 32)       0         \n",
            " )                                                               \n",
            "                                                                 \n",
            " flatten (Flatten)           (None, 30752)             0         \n",
            "                                                                 \n",
            " dense (Dense)               (None, 300)               9225900   \n",
            "                                                                 \n",
            " dense_1 (Dense)             (None, 150)               45150     \n",
            "                                                                 \n",
            " dense_2 (Dense)             (None, 5)                 755       \n",
            "                                                                 \n",
            "=================================================================\n",
            "Total params: 9,272,701\n",
            "Trainable params: 9,272,701\n",
            "Non-trainable params: 0\n",
            "_________________________________________________________________\n"
          ]
        }
      ]
    },
    {
      "cell_type": "markdown",
      "source": [
        "##**Compile the Model**"
      ],
      "metadata": {
        "id": "UFElCNt7Ge1O"
      }
    },
    {
      "cell_type": "code",
      "source": [
        "model.compile(optimizer='adam',loss='categorical_crossentropy',metrics=['accuracy'])"
      ],
      "metadata": {
        "id": "vbuOI68tGaVB"
      },
      "execution_count": 11,
      "outputs": []
    },
    {
      "cell_type": "markdown",
      "source": [
        "##**Fitting the Model**"
      ],
      "metadata": {
        "id": "PkjZy4tkGtjF"
      }
    },
    {
      "cell_type": "code",
      "source": [
        "model.fit(x_train, epochs = 10,steps_per_epoch=len(x_train))"
      ],
      "metadata": {
        "colab": {
          "base_uri": "https://localhost:8080/"
        },
        "id": "5IqM2hmwGmAU",
        "outputId": "98323abb-a953-4ff4-c7db-c6cb4488ab84"
      },
      "execution_count": 12,
      "outputs": [
        {
          "output_type": "stream",
          "name": "stdout",
          "text": [
            "Epoch 1/10\n",
            "53/53 [==============================] - 111s 2s/step - loss: 0.7199 - accuracy: 0.7251\n",
            "Epoch 2/10\n",
            "53/53 [==============================] - 17s 315ms/step - loss: 0.3218 - accuracy: 0.8665\n",
            "Epoch 3/10\n",
            "53/53 [==============================] - 15s 284ms/step - loss: 0.3193 - accuracy: 0.8653\n",
            "Epoch 4/10\n",
            "53/53 [==============================] - 16s 292ms/step - loss: 0.2972 - accuracy: 0.8749\n",
            "Epoch 5/10\n",
            "53/53 [==============================] - 15s 287ms/step - loss: 0.2565 - accuracy: 0.9030\n",
            "Epoch 6/10\n",
            "53/53 [==============================] - 15s 285ms/step - loss: 0.2631 - accuracy: 0.8922\n",
            "Epoch 7/10\n",
            "53/53 [==============================] - 15s 277ms/step - loss: 0.2245 - accuracy: 0.9090\n",
            "Epoch 8/10\n",
            "53/53 [==============================] - 15s 274ms/step - loss: 0.2436 - accuracy: 0.9090\n",
            "Epoch 9/10\n",
            "53/53 [==============================] - 17s 311ms/step - loss: 0.2015 - accuracy: 0.9204\n",
            "Epoch 10/10\n",
            "53/53 [==============================] - 15s 281ms/step - loss: 0.2023 - accuracy: 0.9216\n"
          ]
        },
        {
          "output_type": "execute_result",
          "data": {
            "text/plain": [
              "<keras.callbacks.History at 0x7fd0cd82b590>"
            ]
          },
          "metadata": {},
          "execution_count": 12
        }
      ]
    },
    {
      "cell_type": "markdown",
      "source": [
        "##**Saving the Model**"
      ],
      "metadata": {
        "id": "uwQ7WozNVsdD"
      }
    },
    {
      "cell_type": "code",
      "source": [
        "model.save('flowers.h5')"
      ],
      "metadata": {
        "id": "47eIzRAVHcGI"
      },
      "execution_count": 13,
      "outputs": []
    },
    {
      "cell_type": "markdown",
      "source": [
        "##**Testing the Model**"
      ],
      "metadata": {
        "id": "_hPhNpWIWEF9"
      }
    },
    {
      "cell_type": "code",
      "source": [
        "import numpy as np\n",
        "from tensorflow.keras.models import load_model\n",
        "from tensorflow.keras.preprocessing import image"
      ],
      "metadata": {
        "id": "xcjd8Z1eV5_M"
      },
      "execution_count": 14,
      "outputs": []
    },
    {
      "cell_type": "code",
      "source": [
        "model=load_model('flowers.h5')"
      ],
      "metadata": {
        "id": "dJyRqi_JWb4E"
      },
      "execution_count": 15,
      "outputs": []
    },
    {
      "cell_type": "code",
      "source": [
        "img = image.load_img(r'/content/drive/MyDrive/test.jpg',target_size=(64,64))\n",
        "img"
      ],
      "metadata": {
        "colab": {
          "base_uri": "https://localhost:8080/",
          "height": 81
        },
        "id": "vWwHCnWYWjlG",
        "outputId": "7de28425-c618-4fac-a6e8-ae1f9ca9ef65"
      },
      "execution_count": 16,
      "outputs": [
        {
          "output_type": "execute_result",
          "data": {
            "text/plain": [
              "<PIL.Image.Image image mode=RGB size=64x64 at 0x7FD0C886A0D0>"
            ],
            "image/png": "[encoded data removed]"
          },
          "metadata": {},
          "execution_count": 16
        }
      ]
    },
    {
      "cell_type": "code",
      "source": [
        "x_train.class_indices"
      ],
      "metadata": {
        "colab": {
          "base_uri": "https://localhost:8080/"
        },
        "id": "uG_kCrUia6aM",
        "outputId": "7598547d-6d88-499c-e9c3-e8adc47cfbd8"
      },
      "execution_count": 17,
      "outputs": [
        {
          "output_type": "execute_result",
          "data": {
            "text/plain": [
              "{'daisy': 0, 'dandelion': 1, 'rose': 2, 'sunflower': 3, 'tulip': 4}"
            ]
          },
          "metadata": {},
          "execution_count": 17
        }
      ]
    },
    {
      "cell_type": "code",
      "source": [
        "x=image.img_to_array(img)\n",
        "x=np.expand_dims(x,axis=0)\n",
        "y=np.argmax(model.predict(x))\n",
        "y\n"
      ],
      "metadata": {
        "colab": {
          "base_uri": "https://localhost:8080/"
        },
        "id": "9P8RrmUvYtNp",
        "outputId": "cd2259ff-0b1d-4d3e-e5d1-1ebcc882c964"
      },
      "execution_count": 18,
      "outputs": [
        {
          "output_type": "execute_result",
          "data": {
            "text/plain": [
              "4"
            ]
          },
          "metadata": {},
          "execution_count": 18
        }
      ]
    },
    {
      "cell_type": "code",
      "source": [
        "index=['daisy','dandelion','rose','sunflower','tulip']\n",
        "index[y]"
      ],
      "metadata": {
        "colab": {
          "base_uri": "https://localhost:8080/",
          "height": 36
        },
        "id": "uLLEKnsxaRwQ",
        "outputId": "5560fca4-622c-46ff-cf57-6493fd060e96"
      },
      "execution_count": 19,
      "outputs": [
        {
          "output_type": "execute_result",
          "data": {
            "text/plain": [
              "'tulip'"
            ],
            "application/vnd.google.colaboratory.intrinsic+json": {
              "type": "string"
            }
          },
          "metadata": {},
          "execution_count": 19
        }
      ]
    },
    {
      "cell_type": "code",
      "source": [
        "img1 = image.load_img(r'/content/drive/MyDrive/test1.jpg',target_size=(64,64))\n",
        "img1"
      ],
      "metadata": {
        "colab": {
          "base_uri": "https://localhost:8080/",
          "height": 81
        },
        "id": "YVM1zrh7br9h",
        "outputId": "b630f34b-1f6e-4ba0-9c7e-782d848cf9b8"
      },
      "execution_count": 21,
      "outputs": [
        {
          "output_type": "execute_result",
          "data": {
            "text/plain": [
              "<PIL.Image.Image image mode=RGB size=64x64 at 0x7FD0C87E7A10>"
            ],
            "image/png": "[encoded data removed]"
          },
          "metadata": {},
          "execution_count": 21
        }
      ]
    },
    {
      "cell_type": "code",
      "source": [
        "x=image.img_to_array(img1)\n",
        "x=np.expand_dims(x,axis=0)\n",
        "y=np.argmax(model.predict(x))\n",
        "index[y]"
      ],
      "metadata": {
        "colab": {
          "base_uri": "https://localhost:8080/",
          "height": 36
        },
        "id": "ZBVV7OFic45V",
        "outputId": "00289907-e681-4b3e-e8e3-43064cf4e431"
      },
      "execution_count": 22,
      "outputs": [
        {
          "output_type": "execute_result",
          "data": {
            "text/plain": [
              "'tulip'"
            ],
            "application/vnd.google.colaboratory.intrinsic+json": {
              "type": "string"
            }
          },
          "metadata": {},
          "execution_count": 22
        }
      ]
    },
    {
      "cell_type": "code",
      "source": [
        "img2 = image.load_img(r'/content/drive/MyDrive/test2.jpg',target_size=(64,64))\n",
        "img2"
      ],
      "metadata": {
        "colab": {
          "base_uri": "https://localhost:8080/",
          "height": 81
        },
        "id": "uo5c5I9UdAxI",
        "outputId": "b57038a3-e78d-4315-e139-9d369daded3a"
      },
      "execution_count": 24,
      "outputs": [
        {
          "output_type": "execute_result",
          "data": {
            "text/plain": [
              "<PIL.Image.Image image mode=RGB size=64x64 at 0x7FD0C87E7990>"
            ],
            "image/png": "[encoded data removed]"
          },
          "metadata": {},
          "execution_count": 24
        }
      ]
    },
    {
      "cell_type": "code",
      "source": [
        "x=image.img_to_array(img2)\n",
        "x=np.expand_dims(x,axis=0)\n",
        "y=np.argmax(model.predict(x))\n",
        "index[y]"
      ],
      "metadata": {
        "colab": {
          "base_uri": "https://localhost:8080/",
          "height": 36
        },
        "id": "3bko9pBedRaI",
        "outputId": "0f58ae19-67b8-412d-e2d4-be5e5d06670d"
      },
      "execution_count": 25,
      "outputs": [
        {
          "output_type": "execute_result",
          "data": {
            "text/plain": [
              "'sunflower'"
            ],
            "application/vnd.google.colaboratory.intrinsic+json": {
              "type": "string"
            }
          },
          "metadata": {},
          "execution_count": 25
        }
      ]
    },
    {
      "cell_type": "code",
      "source": [],
      "metadata": {
        "id": "CXNsw4CHiFwo"
      },
      "execution_count": null,
      "outputs": []
    },
    {
      "cell_type": "code",
      "source": [],
      "metadata": {
        "id": "IwyqtiSkiGu2"
      },
      "execution_count": null,
      "outputs": []
    },
    {
      "cell_type": "markdown",
      "source": [
        "###With training and testing data"
      ],
      "metadata": {
        "id": "5chNNL1vh7MT"
      }
    },
    {
      "cell_type": "code",
      "source": [
        "!pip install split-folders"
      ],
      "metadata": {
        "colab": {
          "base_uri": "https://localhost:8080/"
        },
        "id": "eJEmiKe_ejqy",
        "outputId": "3b8c8f74-5954-448f-9ff2-47c354522db1"
      },
      "execution_count": 26,
      "outputs": [
        {
          "output_type": "stream",
          "name": "stdout",
          "text": [
            "Looking in indexes: https://pypi.org/simple, https://us-python.pkg.dev/colab-wheels/public/simple/\n",
            "Collecting split-folders\n",
            "  Downloading split_folders-0.5.1-py3-none-any.whl (8.4 kB)\n",
            "Installing collected packages: split-folders\n",
            "Successfully installed split-folders-0.5.1\n"
          ]
        }
      ]
    },
    {
      "cell_type": "code",
      "source": [
        "import splitfolders"
      ],
      "metadata": {
        "id": "w9ctZA4HetyD"
      },
      "execution_count": 27,
      "outputs": []
    },
    {
      "cell_type": "code",
      "source": [
        "splitfolders.ratio(\"/content/drive/MyDrive/flowers\", output=\"/content/drive/MyDrive\", ratio=(.8, .2), group_prefix=None, move=False)"
      ],
      "metadata": {
        "colab": {
          "base_uri": "https://localhost:8080/"
        },
        "id": "mXK4BdI5fDcC",
        "outputId": "8e626694-3843-4c03-b4ef-212091e8e863"
      },
      "execution_count": 28,
      "outputs": [
        {
          "output_type": "stream",
          "name": "stderr",
          "text": [
            "Copying files: 1670 files [00:17, 97.75 files/s] \n"
          ]
        }
      ]
    },
    {
      "cell_type": "code",
      "source": [
        "from tensorflow.keras.preprocessing.image import ImageDataGenerator\n",
        "train_datagen=ImageDataGenerator(rescale=1./255,zoom_range=0.2,horizontal_flip=True,vertical_flip=False)\n",
        "test_datagen = ImageDataGenerator(rescale=1./255)"
      ],
      "metadata": {
        "id": "8f1hivwWf9z9"
      },
      "execution_count": null,
      "outputs": []
    },
    {
      "cell_type": "code",
      "source": [
        "x_train = train_datagen.flow_from_directory(r'/content/drive/MyDrive/train',target_size=(64,64),class_mode='categorical')"
      ],
      "metadata": {
        "colab": {
          "base_uri": "https://localhost:8080/"
        },
        "id": "BpvWJCJVgl6y",
        "outputId": "b8af81f0-d97a-41f1-c893-fb063e082e0f"
      },
      "execution_count": null,
      "outputs": [
        {
          "output_type": "stream",
          "name": "stdout",
          "text": [
            "Found 3452 images belonging to 5 classes.\n"
          ]
        }
      ]
    },
    {
      "cell_type": "code",
      "source": [
        "x_test=test_datagen.flow_from_directory(r'/content/drive/MyDrive/val',target_size=(64,64),class_mode='categorical')"
      ],
      "metadata": {
        "colab": {
          "base_uri": "https://localhost:8080/"
        },
        "id": "iR188G-Ggt7I",
        "outputId": "a8b2fe8e-3ddf-48a3-eb1c-67cc3e6bf3d8"
      },
      "execution_count": null,
      "outputs": [
        {
          "output_type": "stream",
          "name": "stdout",
          "text": [
            "Found 865 images belonging to 5 classes.\n"
          ]
        }
      ]
    },
    {
      "cell_type": "code",
      "source": [
        "from tensorflow.keras.models import Sequential\n",
        "from tensorflow.keras.layers import Convolution2D,MaxPooling2D,Dense,Flatten"
      ],
      "metadata": {
        "id": "8_gzcZ4rg77D"
      },
      "execution_count": null,
      "outputs": []
    },
    {
      "cell_type": "code",
      "source": [
        "model=Sequential()"
      ],
      "metadata": {
        "id": "9GRyw3hAhpHx"
      },
      "execution_count": null,
      "outputs": []
    },
    {
      "cell_type": "code",
      "source": [
        "model.add(Convolution2D(32,(3,3),activation='relu',input_shape=(64,64,3))) # Convolution layer\n",
        "model.add(MaxPooling2D(pool_size=(2,2))) # Max pooling layer\n",
        "model.add(Flatten()) # Flatten layer\n",
        "# Dense layers\n",
        "model.add(Dense(300,activation='relu')) # Hidden layer\n",
        "model.add(Dense(150,activation='relu')) # Hidden layer\n",
        "model.add(Dense(5,activation='softmax')) # Output layer"
      ],
      "metadata": {
        "id": "oQrYTjTIhoFr"
      },
      "execution_count": null,
      "outputs": []
    },
    {
      "cell_type": "code",
      "source": [
        "model.summary()"
      ],
      "metadata": {
        "colab": {
          "base_uri": "https://localhost:8080/"
        },
        "id": "HEKMFiIKhsK7",
        "outputId": "4928064c-dc78-4004-bfc1-a5165ae8683f"
      },
      "execution_count": null,
      "outputs": [
        {
          "output_type": "stream",
          "name": "stdout",
          "text": [
            "Model: \"sequential_3\"\n",
            "_________________________________________________________________\n",
            " Layer (type)                Output Shape              Param #   \n",
            "=================================================================\n",
            " conv2d_3 (Conv2D)           (None, 62, 62, 32)        896       \n",
            "                                                                 \n",
            " max_pooling2d_3 (MaxPooling  (None, 31, 31, 32)       0         \n",
            " 2D)                                                             \n",
            "                                                                 \n",
            " flatten_3 (Flatten)         (None, 30752)             0         \n",
            "                                                                 \n",
            " dense_9 (Dense)             (None, 300)               9225900   \n",
            "                                                                 \n",
            " dense_10 (Dense)            (None, 150)               45150     \n",
            "                                                                 \n",
            " dense_11 (Dense)            (None, 5)                 755       \n",
            "                                                                 \n",
            "=================================================================\n",
            "Total params: 9,272,701\n",
            "Trainable params: 9,272,701\n",
            "Non-trainable params: 0\n",
            "_________________________________________________________________\n"
          ]
        }
      ]
    },
    {
      "cell_type": "code",
      "source": [
        "model.compile(optimizer='adam',loss='categorical_crossentropy',metrics=['accuracy'])"
      ],
      "metadata": {
        "id": "W3pV0u66hv9R"
      },
      "execution_count": null,
      "outputs": []
    },
    {
      "cell_type": "code",
      "source": [
        "model.fit(x_train, epochs = 10, validation_data=x_test, steps_per_epoch=len(x_train), validation_steps=len(x_test))"
      ],
      "metadata": {
        "colab": {
          "base_uri": "https://localhost:8080/"
        },
        "id": "-8UbMQ5UhziL",
        "outputId": "893d67d1-00e1-41ad-bd15-79cdc2ba1170"
      },
      "execution_count": null,
      "outputs": [
        {
          "output_type": "stream",
          "name": "stdout",
          "text": [
            "Epoch 1/10\n",
            "108/108 [==============================] - 45s 413ms/step - loss: 1.4393 - accuracy: 0.4122 - val_loss: 1.3110 - val_accuracy: 0.4809\n",
            "Epoch 2/10\n",
            "108/108 [==============================] - 42s 392ms/step - loss: 1.0584 - accuracy: 0.5820 - val_loss: 1.1459 - val_accuracy: 0.5457\n",
            "Epoch 3/10\n",
            "108/108 [==============================] - 42s 387ms/step - loss: 0.9513 - accuracy: 0.6353 - val_loss: 1.2169 - val_accuracy: 0.5353\n",
            "Epoch 4/10\n",
            "108/108 [==============================] - 47s 433ms/step - loss: 0.8961 - accuracy: 0.6498 - val_loss: 1.0100 - val_accuracy: 0.6220\n",
            "Epoch 5/10\n",
            "108/108 [==============================] - 42s 387ms/step - loss: 0.8260 - accuracy: 0.6779 - val_loss: 0.9960 - val_accuracy: 0.6312\n",
            "Epoch 6/10\n",
            "108/108 [==============================] - 43s 398ms/step - loss: 0.7853 - accuracy: 0.6976 - val_loss: 0.9918 - val_accuracy: 0.6231\n",
            "Epoch 7/10\n",
            "108/108 [==============================] - 42s 386ms/step - loss: 0.7340 - accuracy: 0.7202 - val_loss: 1.0139 - val_accuracy: 0.6451\n",
            "Epoch 8/10\n",
            "108/108 [==============================] - 42s 386ms/step - loss: 0.6943 - accuracy: 0.7375 - val_loss: 1.0273 - val_accuracy: 0.6289\n",
            "Epoch 9/10\n",
            "108/108 [==============================] - 44s 408ms/step - loss: 0.6664 - accuracy: 0.7503 - val_loss: 1.0619 - val_accuracy: 0.6277\n",
            "Epoch 10/10\n",
            "108/108 [==============================] - 42s 388ms/step - loss: 0.6302 - accuracy: 0.7659 - val_loss: 0.9690 - val_accuracy: 0.6705\n"
          ]
        },
        {
          "output_type": "execute_result",
          "data": {
            "text/plain": [
              "<keras.callbacks.History at 0x7f44d1d5a850>"
            ]
          },
          "metadata": {},
          "execution_count": 90
        }
      ]
    },
    {
      "cell_type": "code",
      "source": [
        "model.save('flowers.h5')"
      ],
      "metadata": {
        "id": "kZE6Nr4IiZaV"
      },
      "execution_count": null,
      "outputs": []
    },
    {
      "cell_type": "code",
      "source": [
        "import numpy as np\n",
        "from tensorflow.keras.models import load_model\n",
        "from tensorflow.keras.preprocessing import image"
      ],
      "metadata": {
        "id": "-zdmLUQTiq3F"
      },
      "execution_count": null,
      "outputs": []
    },
    {
      "cell_type": "code",
      "source": [
        "model=load_model('flowers.h5')"
      ],
      "metadata": {
        "id": "RRIMNMCpiq_F"
      },
      "execution_count": null,
      "outputs": []
    },
    {
      "cell_type": "code",
      "source": [
        "img = image.load_img(r'/content/drive/MyDrive/val/tulip/112428665_d8f3632f36_n.jpg',target_size=(64,64))\n",
        "img"
      ],
      "metadata": {
        "colab": {
          "base_uri": "https://localhost:8080/",
          "height": 81
        },
        "id": "KcASZaYxiumC",
        "outputId": "41b81a63-d4f5-4149-89e2-951178234bac"
      },
      "execution_count": null,
      "outputs": [
        {
          "output_type": "execute_result",
          "data": {
            "text/plain": [
              "<PIL.Image.Image image mode=RGB size=64x64 at 0x7F44D2F7F210>"
            ],
            "image/png": "[encoded data removed]"
          },
          "metadata": {},
          "execution_count": 102
        }
      ]
    },
    {
      "cell_type": "code",
      "source": [
        "x_train.class_indices"
      ],
      "metadata": {
        "colab": {
          "base_uri": "https://localhost:8080/"
        },
        "id": "mFWcoTTji1zt",
        "outputId": "49f52463-76da-46c9-8a70-a278befab28d"
      },
      "execution_count": null,
      "outputs": [
        {
          "output_type": "execute_result",
          "data": {
            "text/plain": [
              "{'daisy': 0, 'dandelion': 1, 'rose': 2, 'sunflower': 3, 'tulip': 4}"
            ]
          },
          "metadata": {},
          "execution_count": 103
        }
      ]
    },
    {
      "cell_type": "code",
      "source": [
        "x=image.img_to_array(img)\n",
        "x=np.expand_dims(x,axis=0)\n",
        "y=np.argmax(model.predict(x))\n",
        "y"
      ],
      "metadata": {
        "colab": {
          "base_uri": "https://localhost:8080/"
        },
        "id": "dkccyfXBi7G_",
        "outputId": "c678ca4c-7114-43e9-9fed-ac796bc93337"
      },
      "execution_count": null,
      "outputs": [
        {
          "output_type": "execute_result",
          "data": {
            "text/plain": [
              "4"
            ]
          },
          "metadata": {},
          "execution_count": 104
        }
      ]
    },
    {
      "cell_type": "code",
      "source": [
        "index=['daisy','dandelion','rose','sunflower','tulip']\n",
        "index[y]"
      ],
      "metadata": {
        "colab": {
          "base_uri": "https://localhost:8080/",
          "height": 36
        },
        "id": "qcCeis-pi7Sb",
        "outputId": "e3be4011-c309-4d32-e83b-02c4a6f2ff55"
      },
      "execution_count": null,
      "outputs": [
        {
          "output_type": "execute_result",
          "data": {
            "text/plain": [
              "'tulip'"
            ],
            "application/vnd.google.colaboratory.intrinsic+json": {
              "type": "string"
            }
          },
          "metadata": {},
          "execution_count": 105
        }
      ]
    },
    {
      "cell_type": "code",
      "source": [],
      "metadata": {
        "id": "XQ5VlwK4k10x"
      },
      "execution_count": null,
      "outputs": []
    }
  ]
}