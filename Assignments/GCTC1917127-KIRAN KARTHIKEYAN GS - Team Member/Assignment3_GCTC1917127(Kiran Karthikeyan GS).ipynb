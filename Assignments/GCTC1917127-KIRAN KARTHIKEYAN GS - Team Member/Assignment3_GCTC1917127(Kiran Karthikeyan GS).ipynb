{
  "nbformat": 4,
  "nbformat_minor": 0,
  "metadata": {
    "colab": {
      "provenance": [],
      "collapsed_sections": []
    },
    "kernelspec": {
      "name": "python3",
      "display_name": "Python 3"
    },
    "language_info": {
      "name": "python"
    }
  },
  "cells": [
    {
      "cell_type": "markdown",
      "source": [
        "#Building CNN Model for Image Classification"
      ],
      "metadata": {
        "id": "W1ZvoSSVL7Gk"
      }
    },
    {
      "cell_type": "markdown",
      "source": [
        "##Image Augmentation"
      ],
      "metadata": {
        "id": "RkWMgyaeMIQ8"
      }
    },
    {
      "cell_type": "code",
      "source": [
        "from tensorflow.keras.preprocessing.image import ImageDataGenerator"
      ],
      "metadata": {
        "id": "UdiojkwuMFRV"
      },
      "execution_count": 1,
      "outputs": []
    },
    {
      "cell_type": "code",
      "source": [
        "train_datagen=ImageDataGenerator(rescale=1./255,zoom_range=0.2,horizontal_flip=True,vertical_flip=False)\n",
        "test_datagen = ImageDataGenerator(rescale=1./255)"
      ],
      "metadata": {
        "id": "zJ5foATJMSfR"
      },
      "execution_count": 2,
      "outputs": []
    },
    {
      "cell_type": "code",
      "source": [
        "x_train = train_datagen.flow_from_directory(r'/content/drive/MyDrive/Assignment3(Flowers_dataset)/flowers',target_size=(64,64),class_mode='categorical')"
      ],
      "metadata": {
        "colab": {
          "base_uri": "https://localhost:8080/"
        },
        "id": "b3AwQ8slMW2l",
        "outputId": "d6c60384-e061-43ce-8eb7-27afc882b9e7"
      },
      "execution_count": 3,
      "outputs": [
        {
          "output_type": "stream",
          "name": "stdout",
          "text": [
            "Found 4332 images belonging to 5 classes.\n"
          ]
        }
      ]
    },
    {
      "cell_type": "code",
      "source": [
        "x_train.class_indices"
      ],
      "metadata": {
        "colab": {
          "base_uri": "https://localhost:8080/"
        },
        "id": "8zfEpx7HM51o",
        "outputId": "f340f5ce-077d-4adf-8631-ea06a8e841d6"
      },
      "execution_count": 4,
      "outputs": [
        {
          "output_type": "execute_result",
          "data": {
            "text/plain": [
              "{'daisy': 0, 'dandelion': 1, 'rose': 2, 'sunflower': 3, 'tulip': 4}"
            ]
          },
          "metadata": {},
          "execution_count": 4
        }
      ]
    },
    {
      "cell_type": "markdown",
      "source": [
        "##Creating Model\n"
      ],
      "metadata": {
        "id": "XIxPv74nNFB_"
      }
    },
    {
      "cell_type": "code",
      "source": [
        "from tensorflow.keras.models import Sequential\n",
        "from tensorflow.keras.layers import Convolution2D,MaxPooling2D,Dense,Flatten"
      ],
      "metadata": {
        "id": "1gbEwVwfNBhJ"
      },
      "execution_count": 5,
      "outputs": []
    },
    {
      "cell_type": "code",
      "source": [
        "model=Sequential()"
      ],
      "metadata": {
        "id": "PsroUCQTNQiK"
      },
      "execution_count": 6,
      "outputs": []
    },
    {
      "cell_type": "markdown",
      "source": [
        "##Add Layers (Convolution,MaxPooling,Flatten,Dense-(HiddenLayers),Output)"
      ],
      "metadata": {
        "id": "CoCo4BPtNU6C"
      }
    },
    {
      "cell_type": "code",
      "source": [
        "model.add(Convolution2D(32,(3,3),activation='relu',input_shape=(64,64,3))) # Convolution layer\n",
        "model.add(MaxPooling2D(pool_size=(2,2))) # Max pooling layer\n",
        "model.add(Flatten()) # Flatten layer\n",
        "# Dense layers\n",
        "model.add(Dense(300,activation='relu')) # Hidden layer\n",
        "model.add(Dense(150,activation='relu')) # Hidden layer\n",
        "model.add(Dense(5,activation='softmax')) # Output layer"
      ],
      "metadata": {
        "id": "1mvsfXzxNT33"
      },
      "execution_count": 7,
      "outputs": []
    },
    {
      "cell_type": "code",
      "source": [
        "model.summary()"
      ],
      "metadata": {
        "colab": {
          "base_uri": "https://localhost:8080/"
        },
        "id": "MztdmVh7NkP2",
        "outputId": "a650df27-3fdc-4082-b9ac-50740344f093"
      },
      "execution_count": 8,
      "outputs": [
        {
          "output_type": "stream",
          "name": "stdout",
          "text": [
            "Model: \"sequential\"\n",
            "_________________________________________________________________\n",
            " Layer (type)                Output Shape              Param #   \n",
            "=================================================================\n",
            " conv2d (Conv2D)             (None, 62, 62, 32)        896       \n",
            "                                                                 \n",
            " max_pooling2d (MaxPooling2D  (None, 31, 31, 32)       0         \n",
            " )                                                               \n",
            "                                                                 \n",
            " flatten (Flatten)           (None, 30752)             0         \n",
            "                                                                 \n",
            " dense (Dense)               (None, 300)               9225900   \n",
            "                                                                 \n",
            " dense_1 (Dense)             (None, 150)               45150     \n",
            "                                                                 \n",
            " dense_2 (Dense)             (None, 5)                 755       \n",
            "                                                                 \n",
            "=================================================================\n",
            "Total params: 9,272,701\n",
            "Trainable params: 9,272,701\n",
            "Non-trainable params: 0\n",
            "_________________________________________________________________\n"
          ]
        }
      ]
    },
    {
      "cell_type": "markdown",
      "source": [
        "##Compiling the Model"
      ],
      "metadata": {
        "id": "91fw1ZENNpwU"
      }
    },
    {
      "cell_type": "code",
      "source": [
        "model.compile(optimizer='adam',loss='categorical_crossentropy',metrics=['accuracy'])"
      ],
      "metadata": {
        "id": "DZiJpe4aNn4D"
      },
      "execution_count": 9,
      "outputs": []
    },
    {
      "cell_type": "markdown",
      "source": [
        "##Fitting the Model"
      ],
      "metadata": {
        "id": "Jb2KaMNTN1Rr"
      }
    },
    {
      "cell_type": "code",
      "source": [
        "model.fit(x_train, epochs = 10,steps_per_epoch=len(x_train))"
      ],
      "metadata": {
        "colab": {
          "base_uri": "https://localhost:8080/"
        },
        "id": "xzKTGYtHNycb",
        "outputId": "17754e45-1e0d-4279-ba9b-57cc9c6c67d3"
      },
      "execution_count": 10,
      "outputs": [
        {
          "metadata": {
            "tags": null
          },
          "name": "stdout",
          "output_type": "stream",
          "text": [
            "Epoch 1/10\n",
            "136/136 [==============================] - 704s 5s/step - loss: 1.3167 - accuracy: 0.4518\n",
            "Epoch 2/10\n",
            "136/136 [==============================] - 40s 291ms/step - loss: 1.0287 - accuracy: 0.5889\n",
            "Epoch 3/10\n",
            "136/136 [==============================] - 39s 288ms/step - loss: 0.9389 - accuracy: 0.6290\n",
            "Epoch 4/10\n",
            "136/136 [==============================] - 41s 302ms/step - loss: 0.8689 - accuracy: 0.6627\n",
            "Epoch 5/10\n",
            "136/136 [==============================] - 39s 288ms/step - loss: 0.8099 - accuracy: 0.6932\n",
            "Epoch 6/10\n",
            "136/136 [==============================] - 39s 289ms/step - loss: 0.7902 - accuracy: 0.6939\n",
            "Epoch 7/10\n",
            "136/136 [==============================] - 42s 305ms/step - loss: 0.7345 - accuracy: 0.7184\n",
            "Epoch 8/10\n",
            "136/136 [==============================] - 40s 293ms/step - loss: 0.6813 - accuracy: 0.7396\n",
            "Epoch 9/10\n",
            "136/136 [==============================] - 42s 308ms/step - loss: 0.6499 - accuracy: 0.7528\n",
            "Epoch 10/10\n",
            "136/136 [==============================] - 40s 291ms/step - loss: 0.6098 - accuracy: 0.7724\n"
          ]
        },
        {
          "data": {
            "text/plain": [
              "<keras.callbacks.History at 0x7f813eb10190>"
            ]
          },
          "execution_count": 10,
          "metadata": {},
          "output_type": "execute_result"
        }
      ]
    },
    {
      "cell_type": "markdown",
      "source": [
        "##Saving the Model"
      ],
      "metadata": {
        "id": "_WV-Kb_AOB8K"
      }
    },
    {
      "cell_type": "code",
      "source": [
        "model.save('flowers.h5')"
      ],
      "metadata": {
        "id": "nFZ0KN2bOBBg"
      },
      "execution_count": 11,
      "outputs": []
    },
    {
      "cell_type": "markdown",
      "source": [
        "##Testing the Model"
      ],
      "metadata": {
        "id": "ofxrGB9bTYAf"
      }
    },
    {
      "cell_type": "code",
      "source": [
        "import numpy as np\n",
        "from tensorflow.keras.models import load_model\n",
        "from tensorflow.keras.preprocessing import image"
      ],
      "metadata": {
        "id": "5o8w9TopTWnG"
      },
      "execution_count": 12,
      "outputs": []
    },
    {
      "cell_type": "code",
      "source": [
        "model=load_model('flowers.h5')"
      ],
      "metadata": {
        "id": "nepWjpixTfpp"
      },
      "execution_count": 13,
      "outputs": []
    },
    {
      "cell_type": "code",
      "source": [
        "img1 = image.load_img(r'/content/drive/MyDrive/Assignment3(Flowers_dataset)/test1.jpg',target_size=(64,64))\n",
        "img1"
      ],
      "metadata": {
        "colab": {
          "base_uri": "https://localhost:8080/",
          "height": 81
        },
        "id": "e4q5UXTwTj_G",
        "outputId": "a3289019-0ee3-49d7-c774-7fcdf4db34e9"
      },
      "execution_count": 22,
      "outputs": [
        {
          "output_type": "execute_result",
          "data": {
            "text/plain": [
              "<PIL.Image.Image image mode=RGB size=64x64 at 0x7F8138F32B50>"
            ],
            "image/png": "[encoded data removed]"
          },
          "metadata": {},
          "execution_count": 22
        }
      ]
    },
    {
      "cell_type": "code",
      "source": [
        "x_train.class_indices"
      ],
      "metadata": {
        "colab": {
          "base_uri": "https://localhost:8080/"
        },
        "id": "yW6cwjm8TnKQ",
        "outputId": "9c1ba640-223b-42e0-fc7d-417e2aff4175"
      },
      "execution_count": 23,
      "outputs": [
        {
          "output_type": "execute_result",
          "data": {
            "text/plain": [
              "{'daisy': 0, 'dandelion': 1, 'rose': 2, 'sunflower': 3, 'tulip': 4}"
            ]
          },
          "metadata": {},
          "execution_count": 23
        }
      ]
    },
    {
      "cell_type": "code",
      "source": [
        "x=image.img_to_array(img1)\n",
        "x=np.expand_dims(x,axis=0)\n",
        "y=np.argmax(model.predict(x))\n",
        "y"
      ],
      "metadata": {
        "colab": {
          "base_uri": "https://localhost:8080/"
        },
        "id": "5i2E2hg5WS4X",
        "outputId": "e3cf5954-e1c1-4e44-a37d-82029fc635fb"
      },
      "execution_count": 24,
      "outputs": [
        {
          "output_type": "execute_result",
          "data": {
            "text/plain": [
              "0"
            ]
          },
          "metadata": {},
          "execution_count": 24
        }
      ]
    },
    {
      "cell_type": "code",
      "source": [
        "index=['daisy','dandelion','rose','sunflower','tulip']\n",
        "index[y]"
      ],
      "metadata": {
        "colab": {
          "base_uri": "https://localhost:8080/",
          "height": 36
        },
        "id": "fKXkt0IOWWPo",
        "outputId": "64131e2b-9386-4349-e993-ee12e9886728"
      },
      "execution_count": 25,
      "outputs": [
        {
          "output_type": "execute_result",
          "data": {
            "text/plain": [
              "'daisy'"
            ],
            "application/vnd.google.colaboratory.intrinsic+json": {
              "type": "string"
            }
          },
          "metadata": {},
          "execution_count": 25
        }
      ]
    },
    {
      "cell_type": "code",
      "source": [
        "img2 = image.load_img(r'/content/drive/MyDrive/Assignment3(Flowers_dataset)/test2.jpg',target_size=(64,64))\n",
        "img2"
      ],
      "metadata": {
        "colab": {
          "base_uri": "https://localhost:8080/",
          "height": 81
        },
        "id": "lRLg22_VWadH",
        "outputId": "c538985d-7b88-463b-e058-1f489d8f0198"
      },
      "execution_count": 26,
      "outputs": [
        {
          "output_type": "execute_result",
          "data": {
            "text/plain": [
              "<PIL.Image.Image image mode=RGB size=64x64 at 0x7F8139947390>"
            ],
            "image/png": "[encoded data removed]"
          },
          "metadata": {},
          "execution_count": 26
        }
      ]
    },
    {
      "cell_type": "code",
      "source": [
        "x=image.img_to_array(img2)\n",
        "x=np.expand_dims(x,axis=0)\n",
        "y=np.argmax(model.predict(x))\n",
        "index[y]"
      ],
      "metadata": {
        "colab": {
          "base_uri": "https://localhost:8080/",
          "height": 36
        },
        "id": "SpDiY3qIWrS7",
        "outputId": "5987e8a8-0c1a-4374-db94-af070b205add"
      },
      "execution_count": 28,
      "outputs": [
        {
          "output_type": "execute_result",
          "data": {
            "text/plain": [
              "'dandelion'"
            ],
            "application/vnd.google.colaboratory.intrinsic+json": {
              "type": "string"
            }
          },
          "metadata": {},
          "execution_count": 28
        }
      ]
    },
    {
      "cell_type": "code",
      "source": [
        "img3 = image.load_img(r'/content/drive/MyDrive/Assignment3(Flowers_dataset)/test3.jpg',target_size=(64,64))\n",
        "img3"
      ],
      "metadata": {
        "colab": {
          "base_uri": "https://localhost:8080/",
          "height": 81
        },
        "id": "w0jmXO8dWxS2",
        "outputId": "3837856e-6e2d-4a7a-e0ba-2cc7142b42cf"
      },
      "execution_count": 29,
      "outputs": [
        {
          "output_type": "execute_result",
          "data": {
            "text/plain": [
              "<PIL.Image.Image image mode=RGB size=64x64 at 0x7F8139974250>"
            ],
            "image/png": "[encoded data removed]"
          },
          "metadata": {},
          "execution_count": 29
        }
      ]
    },
    {
      "cell_type": "code",
      "source": [
        "x=image.img_to_array(img3)\n",
        "x=np.expand_dims(x,axis=0)\n",
        "y=np.argmax(model.predict(x))\n",
        "index[y]"
      ],
      "metadata": {
        "colab": {
          "base_uri": "https://localhost:8080/",
          "height": 36
        },
        "id": "sym1jp3FW5BY",
        "outputId": "cbe20c87-3dc1-4ec1-b622-2913e06ab694"
      },
      "execution_count": 30,
      "outputs": [
        {
          "output_type": "execute_result",
          "data": {
            "text/plain": [
              "'sunflower'"
            ],
            "application/vnd.google.colaboratory.intrinsic+json": {
              "type": "string"
            }
          },
          "metadata": {},
          "execution_count": 30
        }
      ]
    },
    {
      "cell_type": "code",
      "source": [
        "img4 = image.load_img(r'/content/drive/MyDrive/Assignment3(Flowers_dataset)/test4.jpg',target_size=(64,64))\n",
        "img4"
      ],
      "metadata": {
        "colab": {
          "base_uri": "https://localhost:8080/",
          "height": 81
        },
        "id": "qYjxnqo5W73X",
        "outputId": "25f9897b-a56d-491f-a2b7-3ea03b4313ef"
      },
      "execution_count": 31,
      "outputs": [
        {
          "output_type": "execute_result",
          "data": {
            "text/plain": [
              "<PIL.Image.Image image mode=RGB size=64x64 at 0x7F81399746D0>"
            ],
            "image/png": "[encoded data removed]"
          },
          "metadata": {},
          "execution_count": 31
        }
      ]
    },
    {
      "cell_type": "code",
      "source": [
        "x=image.img_to_array(img4)\n",
        "x=np.expand_dims(x,axis=0)\n",
        "y=np.argmax(model.predict(x))\n",
        "index[y]"
      ],
      "metadata": {
        "colab": {
          "base_uri": "https://localhost:8080/",
          "height": 36
        },
        "id": "4tDqywGqXBYr",
        "outputId": "45b4e97d-5b79-42ce-ab12-7623fa5251f7"
      },
      "execution_count": 33,
      "outputs": [
        {
          "output_type": "execute_result",
          "data": {
            "text/plain": [
              "'tulip'"
            ],
            "application/vnd.google.colaboratory.intrinsic+json": {
              "type": "string"
            }
          },
          "metadata": {},
          "execution_count": 33
        }
      ]
    },
    {
      "cell_type": "code",
      "source": [
        "img5 = image.load_img(r'/content/drive/MyDrive/Assignment3(Flowers_dataset)/test5.jpg',target_size=(64,64))\n",
        "img5"
      ],
      "metadata": {
        "colab": {
          "base_uri": "https://localhost:8080/",
          "height": 81
        },
        "id": "eBNGbnzUXDhy",
        "outputId": "237a106c-73b1-4e0c-dc91-43960243ef2a"
      },
      "execution_count": 34,
      "outputs": [
        {
          "output_type": "execute_result",
          "data": {
            "text/plain": [
              "<PIL.Image.Image image mode=RGB size=64x64 at 0x7F8138E69BD0>"
            ],
            "image/png": "[encoded data removed]"
          },
          "metadata": {},
          "execution_count": 34
        }
      ]
    },
    {
      "cell_type": "code",
      "source": [
        "x=image.img_to_array(img5)\n",
        "x=np.expand_dims(x,axis=0)\n",
        "y=np.argmax(model.predict(x))\n",
        "index[y]"
      ],
      "metadata": {
        "colab": {
          "base_uri": "https://localhost:8080/",
          "height": 36
        },
        "id": "ijYRt0gQXJ08",
        "outputId": "ff9e19c5-0da2-48ef-c6b1-457cfd0c4041"
      },
      "execution_count": 35,
      "outputs": [
        {
          "output_type": "execute_result",
          "data": {
            "text/plain": [
              "'rose'"
            ],
            "application/vnd.google.colaboratory.intrinsic+json": {
              "type": "string"
            }
          },
          "metadata": {},
          "execution_count": 35
        }
      ]
    },
    {
      "cell_type": "markdown",
      "source": [
        "##With Training and Testing Data"
      ],
      "metadata": {
        "id": "4zmNLrH1XSEb"
      }
    },
    {
      "cell_type": "code",
      "source": [
        "!pip install split-folders"
      ],
      "metadata": {
        "colab": {
          "base_uri": "https://localhost:8080/"
        },
        "id": "7gZ7pgmmXNiy",
        "outputId": "52c29848-d22c-4c55-b0cb-f7092c526d28"
      },
      "execution_count": 36,
      "outputs": [
        {
          "output_type": "stream",
          "name": "stdout",
          "text": [
            "Looking in indexes: https://pypi.org/simple, https://us-python.pkg.dev/colab-wheels/public/simple/\n",
            "Collecting split-folders\n",
            "  Downloading split_folders-0.5.1-py3-none-any.whl (8.4 kB)\n",
            "Installing collected packages: split-folders\n",
            "Successfully installed split-folders-0.5.1\n"
          ]
        }
      ]
    },
    {
      "cell_type": "code",
      "source": [
        "import splitfolders"
      ],
      "metadata": {
        "id": "SIZhzQF0XZHK"
      },
      "execution_count": 37,
      "outputs": []
    },
    {
      "cell_type": "code",
      "source": [
        "splitfolders.ratio(\"/content/drive/MyDrive/Assignment3(Flowers_dataset)/flowers\", output=\"/content/drive/MyDrive/Assignment3(Flowers_dataset)\", ratio=(.8, .2), group_prefix=None, move=False)"
      ],
      "metadata": {
        "colab": {
          "base_uri": "https://localhost:8080/"
        },
        "id": "Vu-_pEpYXcak",
        "outputId": "e287c241-98e3-4319-955d-5daf55503a2c"
      },
      "execution_count": 38,
      "outputs": [
        {
          "output_type": "stream",
          "name": "stderr",
          "text": [
            "Copying files: 4334 files [00:51, 84.37 files/s]\n"
          ]
        }
      ]
    },
    {
      "cell_type": "code",
      "source": [
        "from tensorflow.keras.preprocessing.image import ImageDataGenerator\n",
        "train_datagen=ImageDataGenerator(rescale=1./255,zoom_range=0.2,horizontal_flip=True,vertical_flip=False)\n",
        "test_datagen = ImageDataGenerator(rescale=1./255)"
      ],
      "metadata": {
        "id": "XhDXnWhzXsKF"
      },
      "execution_count": 39,
      "outputs": []
    },
    {
      "cell_type": "code",
      "source": [
        "x_train = train_datagen.flow_from_directory(r'/content/drive/MyDrive/Assignment3(Flowers_dataset)/train',target_size=(64,64),class_mode='categorical')"
      ],
      "metadata": {
        "colab": {
          "base_uri": "https://localhost:8080/"
        },
        "id": "qdw6Rb6CX6sn",
        "outputId": "18bf82df-b7a5-4614-802d-7b6b61cb052b"
      },
      "execution_count": 40,
      "outputs": [
        {
          "output_type": "stream",
          "name": "stdout",
          "text": [
            "Found 3466 images belonging to 5 classes.\n"
          ]
        }
      ]
    },
    {
      "cell_type": "code",
      "source": [
        "x_test=test_datagen.flow_from_directory(r'/content/drive/MyDrive/Assignment3(Flowers_dataset)/val',target_size=(64,64),class_mode='categorical')"
      ],
      "metadata": {
        "colab": {
          "base_uri": "https://localhost:8080/"
        },
        "id": "dGFIMQYDYIjG",
        "outputId": "4b7e1aa5-f068-4738-a47e-5ddea63a63da"
      },
      "execution_count": 41,
      "outputs": [
        {
          "output_type": "stream",
          "name": "stdout",
          "text": [
            "Found 868 images belonging to 5 classes.\n"
          ]
        }
      ]
    },
    {
      "cell_type": "code",
      "source": [
        "from tensorflow.keras.models import Sequential\n",
        "from tensorflow.keras.layers import Convolution2D,MaxPooling2D,Dense,Flatten"
      ],
      "metadata": {
        "id": "Vo25gfgXYRh8"
      },
      "execution_count": 42,
      "outputs": []
    },
    {
      "cell_type": "code",
      "source": [
        "model=Sequential()"
      ],
      "metadata": {
        "id": "mIyYm1yyYXGM"
      },
      "execution_count": 43,
      "outputs": []
    },
    {
      "cell_type": "code",
      "source": [
        "model.add(Convolution2D(32,(3,3),activation='relu',input_shape=(64,64,3))) # Convolution layer\n",
        "model.add(MaxPooling2D(pool_size=(2,2))) # Max pooling layer\n",
        "model.add(Flatten()) # Flatten layer\n",
        "# Dense layers\n",
        "model.add(Dense(300,activation='relu')) # Hidden layer\n",
        "model.add(Dense(150,activation='relu')) # Hidden layer\n",
        "model.add(Dense(5,activation='softmax')) # Output layer"
      ],
      "metadata": {
        "id": "ISVwazOxYaw5"
      },
      "execution_count": 44,
      "outputs": []
    },
    {
      "cell_type": "code",
      "source": [
        "model.summary()"
      ],
      "metadata": {
        "colab": {
          "base_uri": "https://localhost:8080/"
        },
        "id": "mzW2XP3GYelr",
        "outputId": "ce94e171-73e7-44c9-ed8f-bcfb489ea7eb"
      },
      "execution_count": 45,
      "outputs": [
        {
          "output_type": "stream",
          "name": "stdout",
          "text": [
            "Model: \"sequential_1\"\n",
            "_________________________________________________________________\n",
            " Layer (type)                Output Shape              Param #   \n",
            "=================================================================\n",
            " conv2d_1 (Conv2D)           (None, 62, 62, 32)        896       \n",
            "                                                                 \n",
            " max_pooling2d_1 (MaxPooling  (None, 31, 31, 32)       0         \n",
            " 2D)                                                             \n",
            "                                                                 \n",
            " flatten_1 (Flatten)         (None, 30752)             0         \n",
            "                                                                 \n",
            " dense_3 (Dense)             (None, 300)               9225900   \n",
            "                                                                 \n",
            " dense_4 (Dense)             (None, 150)               45150     \n",
            "                                                                 \n",
            " dense_5 (Dense)             (None, 5)                 755       \n",
            "                                                                 \n",
            "=================================================================\n",
            "Total params: 9,272,701\n",
            "Trainable params: 9,272,701\n",
            "Non-trainable params: 0\n",
            "_________________________________________________________________\n"
          ]
        }
      ]
    },
    {
      "cell_type": "code",
      "source": [
        "model.compile(optimizer='adam',loss='categorical_crossentropy',metrics=['accuracy'])"
      ],
      "metadata": {
        "id": "S0BoqAhzYk-b"
      },
      "execution_count": 46,
      "outputs": []
    },
    {
      "cell_type": "code",
      "source": [
        "model.fit(x_train, epochs = 10, validation_data=x_test, steps_per_epoch=len(x_train), validation_steps=len(x_test))"
      ],
      "metadata": {
        "colab": {
          "base_uri": "https://localhost:8080/"
        },
        "id": "_c8XhMBTYpYp",
        "outputId": "384ac9e6-19cb-4947-a0c6-7b5a8124af92"
      },
      "execution_count": 48,
      "outputs": [
        {
          "output_type": "stream",
          "name": "stdout",
          "text": [
            "Epoch 1/10\n",
            "109/109 [==============================] - 37s 335ms/step - loss: 0.6591 - accuracy: 0.7510 - val_loss: 0.9919 - val_accuracy: 0.6751\n",
            "Epoch 2/10\n",
            "109/109 [==============================] - 38s 346ms/step - loss: 0.6214 - accuracy: 0.7735 - val_loss: 1.0339 - val_accuracy: 0.6636\n",
            "Epoch 3/10\n",
            "109/109 [==============================] - 37s 338ms/step - loss: 0.5818 - accuracy: 0.7836 - val_loss: 1.0242 - val_accuracy: 0.6452\n",
            "Epoch 4/10\n",
            "109/109 [==============================] - 36s 328ms/step - loss: 0.5399 - accuracy: 0.8015 - val_loss: 1.1693 - val_accuracy: 0.6267\n",
            "Epoch 5/10\n",
            "109/109 [==============================] - 38s 346ms/step - loss: 0.5273 - accuracy: 0.7966 - val_loss: 1.0952 - val_accuracy: 0.6521\n",
            "Epoch 6/10\n",
            "109/109 [==============================] - 36s 329ms/step - loss: 0.5295 - accuracy: 0.7923 - val_loss: 1.0800 - val_accuracy: 0.6636\n",
            "Epoch 7/10\n",
            "109/109 [==============================] - 36s 330ms/step - loss: 0.4818 - accuracy: 0.8260 - val_loss: 1.2527 - val_accuracy: 0.6325\n",
            "Epoch 8/10\n",
            "109/109 [==============================] - 36s 331ms/step - loss: 0.4436 - accuracy: 0.8324 - val_loss: 1.0900 - val_accuracy: 0.6624\n",
            "Epoch 9/10\n",
            "109/109 [==============================] - 38s 348ms/step - loss: 0.4217 - accuracy: 0.8451 - val_loss: 1.1512 - val_accuracy: 0.6302\n",
            "Epoch 10/10\n",
            "109/109 [==============================] - 36s 333ms/step - loss: 0.4021 - accuracy: 0.8514 - val_loss: 1.1659 - val_accuracy: 0.6613\n"
          ]
        },
        {
          "output_type": "execute_result",
          "data": {
            "text/plain": [
              "<keras.callbacks.History at 0x7f8139708110>"
            ]
          },
          "metadata": {},
          "execution_count": 48
        }
      ]
    },
    {
      "cell_type": "code",
      "source": [
        "model=load_model('flowers.h5')"
      ],
      "metadata": {
        "id": "EXTvoEFmYuQO"
      },
      "execution_count": 49,
      "outputs": []
    },
    {
      "cell_type": "code",
      "source": [
        "img6 = image.load_img(r'/content/drive/MyDrive/Assignment3(Flowers_dataset)/val/dandelion/3357432116_b3dce6fed3_n.jpg',target_size=(64,64))\n",
        "img6"
      ],
      "metadata": {
        "colab": {
          "base_uri": "https://localhost:8080/",
          "height": 81
        },
        "id": "hxPUs0Dob7g7",
        "outputId": "9f39d308-aa70-48ab-b09d-6cfcdbdfb0e3"
      },
      "execution_count": 69,
      "outputs": [
        {
          "output_type": "execute_result",
          "data": {
            "text/plain": [
              "<PIL.Image.Image image mode=RGB size=64x64 at 0x7F81395BC090>"
            ],
            "image/png": "[encoded data removed]"
          },
          "metadata": {},
          "execution_count": 69
        }
      ]
    },
    {
      "cell_type": "code",
      "source": [
        "x_train.class_indices"
      ],
      "metadata": {
        "colab": {
          "base_uri": "https://localhost:8080/"
        },
        "id": "P1kq_jG9cUPE",
        "outputId": "67e0f2a1-932d-42e3-ab0c-d4e1f1a45620"
      },
      "execution_count": 70,
      "outputs": [
        {
          "output_type": "execute_result",
          "data": {
            "text/plain": [
              "{'daisy': 0, 'dandelion': 1, 'rose': 2, 'sunflower': 3, 'tulip': 4}"
            ]
          },
          "metadata": {},
          "execution_count": 70
        }
      ]
    },
    {
      "cell_type": "code",
      "source": [
        "x=image.img_to_array(img6)\n",
        "x=np.expand_dims(x,axis=0)\n",
        "y=np.argmax(model.predict(x))\n",
        "y"
      ],
      "metadata": {
        "colab": {
          "base_uri": "https://localhost:8080/"
        },
        "id": "5CUCcI9Xc3Ev",
        "outputId": "9ab2758d-87a6-4420-9c19-203c24856cf0"
      },
      "execution_count": 71,
      "outputs": [
        {
          "output_type": "execute_result",
          "data": {
            "text/plain": [
              "1"
            ]
          },
          "metadata": {},
          "execution_count": 71
        }
      ]
    },
    {
      "cell_type": "code",
      "source": [
        "index=['daisy','dandelion','rose','sunflower','tulip']\n",
        "index[y]"
      ],
      "metadata": {
        "colab": {
          "base_uri": "https://localhost:8080/",
          "height": 36
        },
        "id": "dJyzVLB6dAsw",
        "outputId": "e3fca634-c5bd-4349-e174-059b877a5ed0"
      },
      "execution_count": 72,
      "outputs": [
        {
          "output_type": "execute_result",
          "data": {
            "text/plain": [
              "'dandelion'"
            ],
            "application/vnd.google.colaboratory.intrinsic+json": {
              "type": "string"
            }
          },
          "metadata": {},
          "execution_count": 72
        }
      ]
    },
    {
      "cell_type": "code",
      "source": [
        "img7 = image.load_img(r'/content/drive/MyDrive/Assignment3(Flowers_dataset)/val/rose/3475572132_01ae28e834_n.jpg',target_size=(64,64))\n",
        "img7"
      ],
      "metadata": {
        "colab": {
          "base_uri": "https://localhost:8080/",
          "height": 81
        },
        "id": "0AuZcIDadMqY",
        "outputId": "d40a1a92-4fb2-47e3-85d1-4fd69c697de5"
      },
      "execution_count": 73,
      "outputs": [
        {
          "output_type": "execute_result",
          "data": {
            "text/plain": [
              "<PIL.Image.Image image mode=RGB size=64x64 at 0x7F813953AD90>"
            ],
            "image/png": "[encoded data removed]"
          },
          "metadata": {},
          "execution_count": 73
        }
      ]
    },
    {
      "cell_type": "code",
      "source": [
        "x=image.img_to_array(img7)\n",
        "x=np.expand_dims(x,axis=0)\n",
        "y=np.argmax(model.predict(x))\n",
        "index[y]"
      ],
      "metadata": {
        "colab": {
          "base_uri": "https://localhost:8080/",
          "height": 36
        },
        "id": "jvZYvlffeOeS",
        "outputId": "f52f81ca-9980-49ee-b8c0-3c05c01775ba"
      },
      "execution_count": 74,
      "outputs": [
        {
          "output_type": "execute_result",
          "data": {
            "text/plain": [
              "'rose'"
            ],
            "application/vnd.google.colaboratory.intrinsic+json": {
              "type": "string"
            }
          },
          "metadata": {},
          "execution_count": 74
        }
      ]
    },
    {
      "cell_type": "code",
      "source": [
        "img8 = image.load_img(r'/content/drive/MyDrive/Assignment3(Flowers_dataset)/val/daisy/13826249325_f61cb15f86_n.jpg',target_size=(64,64))\n",
        "img8"
      ],
      "metadata": {
        "colab": {
          "base_uri": "https://localhost:8080/",
          "height": 81
        },
        "id": "Whnh_w8qeU4S",
        "outputId": "ffd49b70-647b-483a-8e14-af56d5affbbb"
      },
      "execution_count": 75,
      "outputs": [
        {
          "output_type": "execute_result",
          "data": {
            "text/plain": [
              "<PIL.Image.Image image mode=RGB size=64x64 at 0x7F813953E150>"
            ],
            "image/png": "[encoded data removed]"
          },
          "metadata": {},
          "execution_count": 75
        }
      ]
    },
    {
      "cell_type": "code",
      "source": [
        "x=image.img_to_array(img8)\n",
        "x=np.expand_dims(x,axis=0)\n",
        "y=np.argmax(model.predict(x))\n",
        "index[y]"
      ],
      "metadata": {
        "colab": {
          "base_uri": "https://localhost:8080/",
          "height": 36
        },
        "id": "xdkE94qDelK1",
        "outputId": "6f49f59e-e470-4d28-dca8-263c08775c9d"
      },
      "execution_count": 76,
      "outputs": [
        {
          "output_type": "execute_result",
          "data": {
            "text/plain": [
              "'daisy'"
            ],
            "application/vnd.google.colaboratory.intrinsic+json": {
              "type": "string"
            }
          },
          "metadata": {},
          "execution_count": 76
        }
      ]
    }
  ]
}